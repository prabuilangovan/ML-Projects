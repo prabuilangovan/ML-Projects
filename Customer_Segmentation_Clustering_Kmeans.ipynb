{
  "nbformat": 4,
  "nbformat_minor": 5,
  "metadata": {
    "colab": {
      "provenance": []
    },
    "kernelspec": {
      "display_name": "Python 3",
      "language": "python",
      "name": "python3"
    },
    "language_info": {
      "codemirror_mode": {
        "name": "ipython",
        "version": 3
      },
      "file_extension": ".py",
      "mimetype": "text/x-python",
      "name": "python",
      "nbconvert_exporter": "python",
      "pygments_lexer": "ipython3",
      "version": "3.6.9"
    }
  },
  "cells": [
    {
      "cell_type": "markdown",
      "metadata": {
        "id": "another-optimum"
      },
      "source": [
        "##Customer segmentation using clustering"
      ],
      "id": "another-optimum"
    },
    {
      "cell_type": "markdown",
      "metadata": {
        "id": "ih-oasWmdZul"
      },
      "source": [
        "## Problem Statement"
      ],
      "id": "ih-oasWmdZul"
    },
    {
      "cell_type": "markdown",
      "metadata": {
        "id": "qfWGmjNHdZul"
      },
      "source": [
        "Perform customer segmentation for an Online Retail using an Unsupervised Clustering technique"
      ],
      "id": "qfWGmjNHdZul"
    },
    {
      "cell_type": "markdown",
      "metadata": {
        "id": "maritime-miami"
      },
      "source": [
        "## Objectives"
      ],
      "id": "maritime-miami"
    },
    {
      "cell_type": "markdown",
      "metadata": {
        "id": "nljJR6CwfZN_"
      },
      "source": [
        "To be able to :\n",
        "\n",
        "* extract summary level insight from a given customer dataset.\n",
        "\n",
        "* handle the missing data and identify the underlying pattern or structure of the data.\n",
        "\n",
        "* create an unsupervised model that generates the optimum number of segments for the customer base\n",
        "\n",
        "* identify customer segments based on the overall buying behaviour\n"
      ],
      "id": "nljJR6CwfZN_"
    },
    {
      "cell_type": "markdown",
      "metadata": {
        "id": "surprising-uruguay"
      },
      "source": [
        "## Dataset"
      ],
      "id": "surprising-uruguay"
    },
    {
      "cell_type": "markdown",
      "metadata": {
        "id": "interior-simple"
      },
      "source": [
        "The dataset chosen for this mini project is the Online Retail dataset. It is a transnational data set which contains all the transactions occurring between 01/12/2010 and 09/12/2011 for a UK-based and registered non-store online retail.\n",
        "\n",
        "The dataset contains 541909 records, and each record is made up of 8 fields.\n",
        "\n",
        "To know more about the dataset : [click here](https://archive.ics.uci.edu/ml/datasets/Online+Retail)"
      ],
      "id": "interior-simple"
    },
    {
      "cell_type": "markdown",
      "metadata": {
        "id": "infrared-olympus"
      },
      "source": [
        "## Information"
      ],
      "id": "infrared-olympus"
    },
    {
      "cell_type": "markdown",
      "metadata": {
        "id": "d6yE5zbTj3Tm"
      },
      "source": [
        "**Clustering** is the task of grouping together a set of objects so that the objects in the same cluster are more similar to each other than to objects in other clusters. Similarity is a measure that reflects the strength of the relationship between two data objects.\n",
        "\n",
        "In the clustering calculation, K-Means is a very popular algorithm. In this analysis, this method is used to cluster the similar data items.\n",
        "\n",
        "In Retail and E-Commerce (B2C), and more broadly in B2B, one of the key elements shaping the business strategy of a firm is understanding of customer behaviour. More specifically, understanding the customers based on different business metrics: how much they spend (revenue), how often they spend (frequency), are they new or existing customers, what are their favorite products, etc... Such understanding in turn helps direct marketing, sales, account management and product teams to support customers on a personalized level and improve the product offering.\n",
        "\n",
        "Furthermore, segmenting customers into different categories based on similar/cyclical buying pattern over a period of 1 year helps the retail shops manage their inventory better, thereby lowering costs and raising revenues by placing the orders in sync with the buying cycles."
      ],
      "id": "d6yE5zbTj3Tm"
    },
    {
      "cell_type": "markdown",
      "metadata": {
        "id": "abstract-stocks"
      },
      "source": [
        "### Import Required packages"
      ],
      "id": "abstract-stocks"
    },
    {
      "cell_type": "code",
      "metadata": {
        "id": "advisory-knowing"
      },
      "source": [
        "from matplotlib import pyplot as plt\n",
        "import numpy as np\n",
        "import pandas as pd\n",
        "import seaborn as sns\n",
        "import math\n",
        "import scipy\n",
        "from sklearn.cluster import KMeans\n",
        "from sklearn.preprocessing import StandardScaler\n",
        "from sklearn.model_selection import train_test_split"
      ],
      "id": "advisory-knowing",
      "execution_count": 3,
      "outputs": []
    },
    {
      "cell_type": "code",
      "metadata": {
        "id": "ybY7HeobdZum"
      },
      "source": [
        "#@title Download the data\n",
        "!wget -qq <>/Online_Retail.zip\n",
        "!unzip -qq Online_Retail.zip"
      ],
      "id": "ybY7HeobdZum",
      "execution_count": 1,
      "outputs": []
    },
    {
      "cell_type": "markdown",
      "metadata": {
        "id": "gp4bF_GJdZuo"
      },
      "source": [
        "## Load the data"
      ],
      "id": "gp4bF_GJdZuo"
    },
    {
      "cell_type": "code",
      "metadata": {
        "id": "prerequisite-knock",
        "colab": {
          "base_uri": "https://localhost:8080/",
          "height": 206
        },
        "outputId": "38062cfd-8e07-42f1-a71d-0b71359ce859"
      },
      "source": [
        "data = pd.read_csv('/content/Online_Retail_Train.csv')\n",
        "data.head()"
      ],
      "id": "prerequisite-knock",
      "execution_count": 4,
      "outputs": [
        {
          "output_type": "execute_result",
          "data": {
            "text/plain": [
              "  InvoiceNo StockCode                         Description  Quantity  \\\n",
              "0    579427     22636  CHILDS BREAKFAST SET CIRCUS PARADE         2   \n",
              "1    554092     21916     SET 12 RETRO WHITE CHALK STICKS        24   \n",
              "2    577774     84692         BOX OF 24 COCKTAIL PARASOLS         6   \n",
              "3   C571196     23350             ROLL WRAP VINTAGE SPOT        -12   \n",
              "4    546649    84509a     SET OF 4 ENGLISH ROSE PLACEMATS         1   \n",
              "\n",
              "           InvoiceDate  UnitPrice  CustomerID         Country  \n",
              "0  2011-11-29 13:04:00       8.50     16479.0  United Kingdom  \n",
              "1  2011-05-22 12:41:00       0.42     17176.0  United Kingdom  \n",
              "2  2011-11-21 15:57:00       0.42     16712.0  United Kingdom  \n",
              "3  2011-10-14 12:02:00       1.25         NaN  United Kingdom  \n",
              "4  2011-03-15 14:17:00       7.46         NaN  United Kingdom  "
            ],
            "text/html": [
              "\n",
              "  <div id=\"df-86731cdd-6e1d-4260-b0cc-89dcb59936a1\" class=\"colab-df-container\">\n",
              "    <div>\n",
              "<style scoped>\n",
              "    .dataframe tbody tr th:only-of-type {\n",
              "        vertical-align: middle;\n",
              "    }\n",
              "\n",
              "    .dataframe tbody tr th {\n",
              "        vertical-align: top;\n",
              "    }\n",
              "\n",
              "    .dataframe thead th {\n",
              "        text-align: right;\n",
              "    }\n",
              "</style>\n",
              "<table border=\"1\" class=\"dataframe\">\n",
              "  <thead>\n",
              "    <tr style=\"text-align: right;\">\n",
              "      <th></th>\n",
              "      <th>InvoiceNo</th>\n",
              "      <th>StockCode</th>\n",
              "      <th>Description</th>\n",
              "      <th>Quantity</th>\n",
              "      <th>InvoiceDate</th>\n",
              "      <th>UnitPrice</th>\n",
              "      <th>CustomerID</th>\n",
              "      <th>Country</th>\n",
              "    </tr>\n",
              "  </thead>\n",
              "  <tbody>\n",
              "    <tr>\n",
              "      <th>0</th>\n",
              "      <td>579427</td>\n",
              "      <td>22636</td>\n",
              "      <td>CHILDS BREAKFAST SET CIRCUS PARADE</td>\n",
              "      <td>2</td>\n",
              "      <td>2011-11-29 13:04:00</td>\n",
              "      <td>8.50</td>\n",
              "      <td>16479.0</td>\n",
              "      <td>United Kingdom</td>\n",
              "    </tr>\n",
              "    <tr>\n",
              "      <th>1</th>\n",
              "      <td>554092</td>\n",
              "      <td>21916</td>\n",
              "      <td>SET 12 RETRO WHITE CHALK STICKS</td>\n",
              "      <td>24</td>\n",
              "      <td>2011-05-22 12:41:00</td>\n",
              "      <td>0.42</td>\n",
              "      <td>17176.0</td>\n",
              "      <td>United Kingdom</td>\n",
              "    </tr>\n",
              "    <tr>\n",
              "      <th>2</th>\n",
              "      <td>577774</td>\n",
              "      <td>84692</td>\n",
              "      <td>BOX OF 24 COCKTAIL PARASOLS</td>\n",
              "      <td>6</td>\n",
              "      <td>2011-11-21 15:57:00</td>\n",
              "      <td>0.42</td>\n",
              "      <td>16712.0</td>\n",
              "      <td>United Kingdom</td>\n",
              "    </tr>\n",
              "    <tr>\n",
              "      <th>3</th>\n",
              "      <td>C571196</td>\n",
              "      <td>23350</td>\n",
              "      <td>ROLL WRAP VINTAGE SPOT</td>\n",
              "      <td>-12</td>\n",
              "      <td>2011-10-14 12:02:00</td>\n",
              "      <td>1.25</td>\n",
              "      <td>NaN</td>\n",
              "      <td>United Kingdom</td>\n",
              "    </tr>\n",
              "    <tr>\n",
              "      <th>4</th>\n",
              "      <td>546649</td>\n",
              "      <td>84509a</td>\n",
              "      <td>SET OF 4 ENGLISH ROSE PLACEMATS</td>\n",
              "      <td>1</td>\n",
              "      <td>2011-03-15 14:17:00</td>\n",
              "      <td>7.46</td>\n",
              "      <td>NaN</td>\n",
              "      <td>United Kingdom</td>\n",
              "    </tr>\n",
              "  </tbody>\n",
              "</table>\n",
              "</div>\n",
              "    <div class=\"colab-df-buttons\">\n",
              "\n",
              "  <div class=\"colab-df-container\">\n",
              "    <button class=\"colab-df-convert\" onclick=\"convertToInteractive('df-86731cdd-6e1d-4260-b0cc-89dcb59936a1')\"\n",
              "            title=\"Convert this dataframe to an interactive table.\"\n",
              "            style=\"display:none;\">\n",
              "\n",
              "  <svg xmlns=\"http://www.w3.org/2000/svg\" height=\"24px\" viewBox=\"0 -960 960 960\">\n",
              "    <path d=\"M120-120v-720h720v720H120Zm60-500h600v-160H180v160Zm220 220h160v-160H400v160Zm0 220h160v-160H400v160ZM180-400h160v-160H180v160Zm440 0h160v-160H620v160ZM180-180h160v-160H180v160Zm440 0h160v-160H620v160Z\"/>\n",
              "  </svg>\n",
              "    </button>\n",
              "\n",
              "  <style>\n",
              "    .colab-df-container {\n",
              "      display:flex;\n",
              "      gap: 12px;\n",
              "    }\n",
              "\n",
              "    .colab-df-convert {\n",
              "      background-color: #E8F0FE;\n",
              "      border: none;\n",
              "      border-radius: 50%;\n",
              "      cursor: pointer;\n",
              "      display: none;\n",
              "      fill: #1967D2;\n",
              "      height: 32px;\n",
              "      padding: 0 0 0 0;\n",
              "      width: 32px;\n",
              "    }\n",
              "\n",
              "    .colab-df-convert:hover {\n",
              "      background-color: #E2EBFA;\n",
              "      box-shadow: 0px 1px 2px rgba(60, 64, 67, 0.3), 0px 1px 3px 1px rgba(60, 64, 67, 0.15);\n",
              "      fill: #174EA6;\n",
              "    }\n",
              "\n",
              "    .colab-df-buttons div {\n",
              "      margin-bottom: 4px;\n",
              "    }\n",
              "\n",
              "    [theme=dark] .colab-df-convert {\n",
              "      background-color: #3B4455;\n",
              "      fill: #D2E3FC;\n",
              "    }\n",
              "\n",
              "    [theme=dark] .colab-df-convert:hover {\n",
              "      background-color: #434B5C;\n",
              "      box-shadow: 0px 1px 3px 1px rgba(0, 0, 0, 0.15);\n",
              "      filter: drop-shadow(0px 1px 2px rgba(0, 0, 0, 0.3));\n",
              "      fill: #FFFFFF;\n",
              "    }\n",
              "  </style>\n",
              "\n",
              "    <script>\n",
              "      const buttonEl =\n",
              "        document.querySelector('#df-86731cdd-6e1d-4260-b0cc-89dcb59936a1 button.colab-df-convert');\n",
              "      buttonEl.style.display =\n",
              "        google.colab.kernel.accessAllowed ? 'block' : 'none';\n",
              "\n",
              "      async function convertToInteractive(key) {\n",
              "        const element = document.querySelector('#df-86731cdd-6e1d-4260-b0cc-89dcb59936a1');\n",
              "        const dataTable =\n",
              "          await google.colab.kernel.invokeFunction('convertToInteractive',\n",
              "                                                    [key], {});\n",
              "        if (!dataTable) return;\n",
              "\n",
              "        const docLinkHtml = 'Like what you see? Visit the ' +\n",
              "          '<a target=\"_blank\" href=https://colab.research.google.com/notebooks/data_table.ipynb>data table notebook</a>'\n",
              "          + ' to learn more about interactive tables.';\n",
              "        element.innerHTML = '';\n",
              "        dataTable['output_type'] = 'display_data';\n",
              "        await google.colab.output.renderOutput(dataTable, element);\n",
              "        const docLink = document.createElement('div');\n",
              "        docLink.innerHTML = docLinkHtml;\n",
              "        element.appendChild(docLink);\n",
              "      }\n",
              "    </script>\n",
              "  </div>\n",
              "\n",
              "\n",
              "<div id=\"df-1923e29a-896c-43c3-9039-c3451e495e7d\">\n",
              "  <button class=\"colab-df-quickchart\" onclick=\"quickchart('df-1923e29a-896c-43c3-9039-c3451e495e7d')\"\n",
              "            title=\"Suggest charts\"\n",
              "            style=\"display:none;\">\n",
              "\n",
              "<svg xmlns=\"http://www.w3.org/2000/svg\" height=\"24px\"viewBox=\"0 0 24 24\"\n",
              "     width=\"24px\">\n",
              "    <g>\n",
              "        <path d=\"M19 3H5c-1.1 0-2 .9-2 2v14c0 1.1.9 2 2 2h14c1.1 0 2-.9 2-2V5c0-1.1-.9-2-2-2zM9 17H7v-7h2v7zm4 0h-2V7h2v10zm4 0h-2v-4h2v4z\"/>\n",
              "    </g>\n",
              "</svg>\n",
              "  </button>\n",
              "\n",
              "<style>\n",
              "  .colab-df-quickchart {\n",
              "      --bg-color: #E8F0FE;\n",
              "      --fill-color: #1967D2;\n",
              "      --hover-bg-color: #E2EBFA;\n",
              "      --hover-fill-color: #174EA6;\n",
              "      --disabled-fill-color: #AAA;\n",
              "      --disabled-bg-color: #DDD;\n",
              "  }\n",
              "\n",
              "  [theme=dark] .colab-df-quickchart {\n",
              "      --bg-color: #3B4455;\n",
              "      --fill-color: #D2E3FC;\n",
              "      --hover-bg-color: #434B5C;\n",
              "      --hover-fill-color: #FFFFFF;\n",
              "      --disabled-bg-color: #3B4455;\n",
              "      --disabled-fill-color: #666;\n",
              "  }\n",
              "\n",
              "  .colab-df-quickchart {\n",
              "    background-color: var(--bg-color);\n",
              "    border: none;\n",
              "    border-radius: 50%;\n",
              "    cursor: pointer;\n",
              "    display: none;\n",
              "    fill: var(--fill-color);\n",
              "    height: 32px;\n",
              "    padding: 0;\n",
              "    width: 32px;\n",
              "  }\n",
              "\n",
              "  .colab-df-quickchart:hover {\n",
              "    background-color: var(--hover-bg-color);\n",
              "    box-shadow: 0 1px 2px rgba(60, 64, 67, 0.3), 0 1px 3px 1px rgba(60, 64, 67, 0.15);\n",
              "    fill: var(--button-hover-fill-color);\n",
              "  }\n",
              "\n",
              "  .colab-df-quickchart-complete:disabled,\n",
              "  .colab-df-quickchart-complete:disabled:hover {\n",
              "    background-color: var(--disabled-bg-color);\n",
              "    fill: var(--disabled-fill-color);\n",
              "    box-shadow: none;\n",
              "  }\n",
              "\n",
              "  .colab-df-spinner {\n",
              "    border: 2px solid var(--fill-color);\n",
              "    border-color: transparent;\n",
              "    border-bottom-color: var(--fill-color);\n",
              "    animation:\n",
              "      spin 1s steps(1) infinite;\n",
              "  }\n",
              "\n",
              "  @keyframes spin {\n",
              "    0% {\n",
              "      border-color: transparent;\n",
              "      border-bottom-color: var(--fill-color);\n",
              "      border-left-color: var(--fill-color);\n",
              "    }\n",
              "    20% {\n",
              "      border-color: transparent;\n",
              "      border-left-color: var(--fill-color);\n",
              "      border-top-color: var(--fill-color);\n",
              "    }\n",
              "    30% {\n",
              "      border-color: transparent;\n",
              "      border-left-color: var(--fill-color);\n",
              "      border-top-color: var(--fill-color);\n",
              "      border-right-color: var(--fill-color);\n",
              "    }\n",
              "    40% {\n",
              "      border-color: transparent;\n",
              "      border-right-color: var(--fill-color);\n",
              "      border-top-color: var(--fill-color);\n",
              "    }\n",
              "    60% {\n",
              "      border-color: transparent;\n",
              "      border-right-color: var(--fill-color);\n",
              "    }\n",
              "    80% {\n",
              "      border-color: transparent;\n",
              "      border-right-color: var(--fill-color);\n",
              "      border-bottom-color: var(--fill-color);\n",
              "    }\n",
              "    90% {\n",
              "      border-color: transparent;\n",
              "      border-bottom-color: var(--fill-color);\n",
              "    }\n",
              "  }\n",
              "</style>\n",
              "\n",
              "  <script>\n",
              "    async function quickchart(key) {\n",
              "      const quickchartButtonEl =\n",
              "        document.querySelector('#' + key + ' button');\n",
              "      quickchartButtonEl.disabled = true;  // To prevent multiple clicks.\n",
              "      quickchartButtonEl.classList.add('colab-df-spinner');\n",
              "      try {\n",
              "        const charts = await google.colab.kernel.invokeFunction(\n",
              "            'suggestCharts', [key], {});\n",
              "      } catch (error) {\n",
              "        console.error('Error during call to suggestCharts:', error);\n",
              "      }\n",
              "      quickchartButtonEl.classList.remove('colab-df-spinner');\n",
              "      quickchartButtonEl.classList.add('colab-df-quickchart-complete');\n",
              "    }\n",
              "    (() => {\n",
              "      let quickchartButtonEl =\n",
              "        document.querySelector('#df-1923e29a-896c-43c3-9039-c3451e495e7d button');\n",
              "      quickchartButtonEl.style.display =\n",
              "        google.colab.kernel.accessAllowed ? 'block' : 'none';\n",
              "    })();\n",
              "  </script>\n",
              "</div>\n",
              "    </div>\n",
              "  </div>\n"
            ]
          },
          "metadata": {},
          "execution_count": 4
        }
      ]
    },
    {
      "cell_type": "code",
      "metadata": {
        "id": "OL-K9lnWD71d",
        "colab": {
          "base_uri": "https://localhost:8080/"
        },
        "outputId": "9dcfd548-4bfd-4940-c66a-5c1f5cd114ac"
      },
      "source": [
        "data.shape"
      ],
      "id": "OL-K9lnWD71d",
      "execution_count": null,
      "outputs": [
        {
          "output_type": "execute_result",
          "data": {
            "text/plain": [
              "(514813, 8)"
            ]
          },
          "metadata": {},
          "execution_count": 4
        }
      ]
    },
    {
      "cell_type": "markdown",
      "metadata": {
        "id": "vtV_KWBLUzRk"
      },
      "source": [
        "## Data Pre-processing"
      ],
      "id": "vtV_KWBLUzRk"
    },
    {
      "cell_type": "markdown",
      "metadata": {
        "id": "NQrT5tx3dZuq"
      },
      "source": [
        "Explore the dataset by performing the following operations:\n",
        "\n",
        "* There is a lot of redundant data. Identify such data and take appropriate action.\n",
        "\n",
        "  **Hint:** refer to this [link](https://pandas.pydata.org/pandas-docs/stable/reference/api/pandas.DataFrame.drop_duplicates.html)\n",
        "\n",
        "* Most Invoices appear as normal transactions with positive quantity and prices, but there are some prefixed with \"C\" or \"A\" which denote different transaction types. Invoice starting with C represents cancelled order and A represents the Adjusted. Identify such data and take appropriate action.\n",
        "\n",
        "  **Hint:** Check the negative values in Quantity column for all cancelled orders\n",
        "\n",
        "* Handle the null values by dropping or filling with appropriate mean\n",
        "\n",
        "\n",
        "* Some of the transactions based on the `StockCode` variable are not actually products, but representing the costs or fees regarding to the post or bank or other tansactions. Find such data and handle it accordingly.\n",
        "\n",
        "  Hint:\n",
        "    - The transaction with `'POST' 'PADS' 'M' 'DOT' 'C2' 'BANK CHARGES'` as their `StockCodes` are considered as irrelevant transactions.\n",
        "\n",
        "* Identify the outliers in the UntiPrice and Quantity and handle them accordingly.\n",
        "\n",
        "  **Hint:** [link](https://kanoki.org/2020/04/23/how-to-remove-outliers-in-python/)\n",
        "\n",
        "* Create a DayOfWeek column using `InvoiceDate`, Hint: pd.to_datetime()\n",
        "\n",
        "**Note:** Perform all the above operations using a function to reuse and apply the same for test data."
      ],
      "id": "NQrT5tx3dZuq"
    },
    {
      "cell_type": "code",
      "metadata": {
        "id": "MIqHzKCOIcT4"
      },
      "source": [
        "# original dataframe for backup\n",
        "data_orig = data"
      ],
      "id": "MIqHzKCOIcT4",
      "execution_count": null,
      "outputs": []
    },
    {
      "cell_type": "code",
      "metadata": {
        "id": "advanced-dispute",
        "colab": {
          "base_uri": "https://localhost:8080/"
        },
        "outputId": "9822e2f8-8622-47a9-a30b-7f740b325dd1"
      },
      "source": [
        "# Identify the cancelled orders\n",
        "len(data[data.InvoiceNo.str[0] == 'C']), len(data[data.Quantity < 1 ])"
      ],
      "id": "advanced-dispute",
      "execution_count": null,
      "outputs": [
        {
          "output_type": "execute_result",
          "data": {
            "text/plain": [
              "(8797, 10084)"
            ]
          },
          "metadata": {},
          "execution_count": 6
        }
      ]
    },
    {
      "cell_type": "code",
      "metadata": {
        "id": "european-discount",
        "colab": {
          "base_uri": "https://localhost:8080/"
        },
        "outputId": "ebd5bfec-217b-4600-b518-f960d69ee729"
      },
      "source": [
        "# Check the null values\n",
        "data.isna().sum()"
      ],
      "id": "european-discount",
      "execution_count": null,
      "outputs": [
        {
          "output_type": "execute_result",
          "data": {
            "text/plain": [
              "InvoiceNo           0\n",
              "StockCode           0\n",
              "Description      1385\n",
              "Quantity            0\n",
              "InvoiceDate         0\n",
              "UnitPrice           0\n",
              "CustomerID     128263\n",
              "Country             0\n",
              "dtype: int64"
            ]
          },
          "metadata": {},
          "execution_count": 7
        }
      ]
    },
    {
      "cell_type": "code",
      "metadata": {
        "id": "protective-tomorrow",
        "colab": {
          "base_uri": "https://localhost:8080/"
        },
        "outputId": "d7def22e-171d-4a52-b1e8-c6386cb96c77"
      },
      "source": [
        "# Irrelevant transactions\n",
        "Irrelevant = data['StockCode'].astype('str').unique()\n",
        "Irrelevant.sort()\n",
        "print('Irrelevant Transactions: \\n',Irrelevant[::-1][:100])"
      ],
      "id": "protective-tomorrow",
      "execution_count": null,
      "outputs": [
        {
          "output_type": "stream",
          "name": "stdout",
          "text": [
            "Irrelevant Transactions: \n",
            " ['m' 'gift_0001_50' 'gift_0001_40' 'gift_0001_30' 'gift_0001_20'\n",
            " 'gift_0001_10' 'S' 'POST' 'PADS' 'M' 'DOT' 'DCGSSGIRL' 'DCGSSBOY'\n",
            " 'DCGS0076' 'DCGS0074' 'DCGS0073' 'DCGS0072' 'DCGS0071' 'DCGS0070'\n",
            " 'DCGS0069' 'DCGS0068' 'DCGS0066P' 'DCGS0057' 'DCGS0004' 'DCGS0003' 'D'\n",
            " 'CRUK' 'C2' 'BANK CHARGES' 'B' 'AMAZONFEE' '90214Z' '90214Y' '90214W'\n",
            " '90214V' '90214U' '90214T' '90214S' '90214R' '90214P' '90214O' '90214N'\n",
            " '90214M' '90214L' '90214K' '90214J' '90214I' '90214H' '90214G' '90214F'\n",
            " '90214E' '90214D' '90214C' '90214B' '90214A' '90212C' '90212B' '90211B'\n",
            " '90211A' '90210D' '90210C' '90210B' '90210A' '90209C' '90209B' '90209A'\n",
            " '90208' '90206C' '90206A' '90205C' '90205A' '90204' '90202D' '90202C'\n",
            " '90202B' '90202A' '90201D' '90201C' '90201B' '90201A' '90200E' '90200D'\n",
            " '90200C' '90200B' '90200A' '90199D' '90199C' '90199B' '90199A' '90198B'\n",
            " '90198A' '90197B' '90196B' '90196A' '90195B' '90195A' '90194' '90192'\n",
            " '90191' '90190C']\n"
          ]
        }
      ]
    },
    {
      "cell_type": "code",
      "metadata": {
        "id": "c7aLvxTNHjcS",
        "colab": {
          "base_uri": "https://localhost:8080/"
        },
        "outputId": "519e6aa4-9486-4cbe-f8f8-454a4df23781"
      },
      "source": [
        "def pre_processing(df):\n",
        "  df.drop_duplicates(inplace=True)\n",
        "  df = df[~ (df.InvoiceNo.str[0] == 'C')]\n",
        "  df.dropna(inplace=True)\n",
        "  df = df[~(df['StockCode'].isin(['POST', 'PADS', 'M', 'DOT', 'C2', 'BANK CHARGES']))]\n",
        "  df = df[(np.abs(scipy.stats.zscore(df['UnitPrice']))<3) & (np.abs(scipy.stats.zscore(df['Quantity']))<5)]\n",
        "  df['InvoiceDate'] = pd.to_datetime(df['InvoiceDate'].values)\n",
        "  df['DayOfWeek'] = [i.dayofweek for i in df['InvoiceDate']]\n",
        "  df['MonthName'] = [i.month_name() for i in df['InvoiceDate']]\n",
        "  return df\n",
        "\n",
        "data  = pre_processing(data_orig)"
      ],
      "id": "c7aLvxTNHjcS",
      "execution_count": null,
      "outputs": [
        {
          "output_type": "stream",
          "name": "stderr",
          "text": [
            "/usr/local/lib/python3.7/dist-packages/pandas/util/_decorators.py:311: SettingWithCopyWarning: \n",
            "A value is trying to be set on a copy of a slice from a DataFrame\n",
            "\n",
            "See the caveats in the documentation: https://pandas.pydata.org/pandas-docs/stable/user_guide/indexing.html#returning-a-view-versus-a-copy\n",
            "  return func(*args, **kwargs)\n"
          ]
        }
      ]
    },
    {
      "cell_type": "markdown",
      "metadata": {
        "id": "graphic-vampire"
      },
      "source": [
        "## Understanding new insights from the data"
      ],
      "id": "graphic-vampire"
    },
    {
      "cell_type": "markdown",
      "metadata": {
        "id": "furnished-station"
      },
      "source": [
        "1.  Are there any free items in the data? How many are there?\n",
        "\n",
        "2.  Find the number of transactions per country and visualize using an appropriate plot\n",
        "\n",
        "3.  What is the ratio of customers who are repeat purchasers vs single-time purchasers? Visualize using an appropriate plot.\n",
        "\n",
        "4. Plot heatmap showing unit price per month and day of the week\n",
        "\n",
        "  **Hint:** Month name as index on Y-axis, Day of the week on X-axis\n",
        "\n",
        "5. Find the top 10 customers who bought the most no.of items. Also find the top 10 Items bought by most no.of customers."
      ],
      "id": "furnished-station"
    },
    {
      "cell_type": "markdown",
      "metadata": {
        "id": "united-memorial"
      },
      "source": [
        "#### 1. Are there any free items in the data ? How many are there ?"
      ],
      "id": "united-memorial"
    },
    {
      "cell_type": "code",
      "metadata": {
        "id": "historic-supervisor",
        "colab": {
          "base_uri": "https://localhost:8080/"
        },
        "outputId": "e87bea7f-9029-440f-9c17-926dd26ded1a"
      },
      "source": [
        "data[data.UnitPrice == 0].count()"
      ],
      "id": "historic-supervisor",
      "execution_count": null,
      "outputs": [
        {
          "output_type": "execute_result",
          "data": {
            "text/plain": [
              "InvoiceNo      30\n",
              "StockCode      30\n",
              "Description    30\n",
              "Quantity       30\n",
              "InvoiceDate    30\n",
              "UnitPrice      30\n",
              "CustomerID     30\n",
              "Country        30\n",
              "DayOfWeek      30\n",
              "MonthName      30\n",
              "dtype: int64"
            ]
          },
          "metadata": {},
          "execution_count": 10
        }
      ]
    },
    {
      "cell_type": "markdown",
      "metadata": {
        "id": "north-power"
      },
      "source": [
        "#### 2. Find the number of transactions per country and visualize"
      ],
      "id": "north-power"
    },
    {
      "cell_type": "code",
      "metadata": {
        "id": "prescribed-speaking",
        "colab": {
          "base_uri": "https://localhost:8080/",
          "height": 432
        },
        "outputId": "9c073107-57a8-46a6-c919-15a4153c2f56"
      },
      "source": [
        "plt.figure(figsize=(10,7))\n",
        "plt.barh(data.Country.value_counts().index, data.Country.value_counts(), log=True)\n",
        "plt.show()"
      ],
      "id": "prescribed-speaking",
      "execution_count": null,
      "outputs": [
        {
          "output_type": "display_data",
          "data": {
            "text/plain": [
              "<Figure size 720x504 with 1 Axes>"
            ],
            "image/png": "[encoded data removed]"
          },
          "metadata": {
            "needs_background": "light"
          }
        }
      ]
    },
    {
      "cell_type": "markdown",
      "metadata": {
        "id": "popular-anthropology"
      },
      "source": [
        "#### 3. What is the ratio of customers who are repeat purchasers vs single-time purchasers? Visualize using an appropriate plot"
      ],
      "id": "popular-anthropology"
    },
    {
      "cell_type": "code",
      "metadata": {
        "id": "portuguese-secretariat",
        "colab": {
          "base_uri": "https://localhost:8080/",
          "height": 277
        },
        "outputId": "89d6806e-e5aa-42bd-cca6-2203d548dbaa"
      },
      "source": [
        "MostRepeat = data.groupby('CustomerID')['InvoiceNo'].nunique().sort_values(ascending=False)\n",
        "rep = MostRepeat[MostRepeat != 1].values\n",
        "nrep = MostRepeat[MostRepeat == 1].values\n",
        "ser = pd.Series([len(rep)/ len(MostRepeat),len(nrep)/len(MostRepeat)], index=['Repeat Customers','One-time Customers'])\n",
        "ser.plot(kind='pie', autopct='%.2f%%').set(ylabel='')\n",
        "plt.suptitle('Top Repeat Customers', fontsize=15)\n",
        "plt.show()"
      ],
      "id": "portuguese-secretariat",
      "execution_count": null,
      "outputs": [
        {
          "output_type": "display_data",
          "data": {
            "text/plain": [
              "<Figure size 432x288 with 1 Axes>"
            ],
            "image/png": "[encoded data removed]"
          },
          "metadata": {}
        }
      ]
    },
    {
      "cell_type": "markdown",
      "metadata": {
        "id": "checked-bishop"
      },
      "source": [
        "#### 4. Plot a heatmap showing unit price per month and day of the week\n",
        "\n",
        "**Hint:** Month name as index on Y-axis, Day of the week on X-axis"
      ],
      "id": "checked-bishop"
    },
    {
      "cell_type": "code",
      "metadata": {
        "id": "YfEpDox31huU",
        "colab": {
          "base_uri": "https://localhost:8080/",
          "height": 112
        },
        "outputId": "8deed472-3e44-49a6-cc2b-87689b4adc22"
      },
      "source": [
        "data.head(2)"
      ],
      "id": "YfEpDox31huU",
      "execution_count": null,
      "outputs": [
        {
          "output_type": "execute_result",
          "data": {
            "text/plain": [
              "  InvoiceNo StockCode                         Description  Quantity  \\\n",
              "0    579427     22636  CHILDS BREAKFAST SET CIRCUS PARADE         2   \n",
              "1    554092     21916     SET 12 RETRO WHITE CHALK STICKS        24   \n",
              "\n",
              "          InvoiceDate  UnitPrice  CustomerID         Country  DayOfWeek  \\\n",
              "0 2011-11-29 13:04:00       8.50     16479.0  United Kingdom          1   \n",
              "1 2011-05-22 12:41:00       0.42     17176.0  United Kingdom          6   \n",
              "\n",
              "  MonthName  \n",
              "0  November  \n",
              "1       May  "
            ],
            "text/html": [
              "\n",
              "  <div id=\"df-50a4e3ba-bb68-4328-9b04-d8d326634f23\">\n",
              "    <div class=\"colab-df-container\">\n",
              "      <div>\n",
              "<style scoped>\n",
              "    .dataframe tbody tr th:only-of-type {\n",
              "        vertical-align: middle;\n",
              "    }\n",
              "\n",
              "    .dataframe tbody tr th {\n",
              "        vertical-align: top;\n",
              "    }\n",
              "\n",
              "    .dataframe thead th {\n",
              "        text-align: right;\n",
              "    }\n",
              "</style>\n",
              "<table border=\"1\" class=\"dataframe\">\n",
              "  <thead>\n",
              "    <tr style=\"text-align: right;\">\n",
              "      <th></th>\n",
              "      <th>InvoiceNo</th>\n",
              "      <th>StockCode</th>\n",
              "      <th>Description</th>\n",
              "      <th>Quantity</th>\n",
              "      <th>InvoiceDate</th>\n",
              "      <th>UnitPrice</th>\n",
              "      <th>CustomerID</th>\n",
              "      <th>Country</th>\n",
              "      <th>DayOfWeek</th>\n",
              "      <th>MonthName</th>\n",
              "    </tr>\n",
              "  </thead>\n",
              "  <tbody>\n",
              "    <tr>\n",
              "      <th>0</th>\n",
              "      <td>579427</td>\n",
              "      <td>22636</td>\n",
              "      <td>CHILDS BREAKFAST SET CIRCUS PARADE</td>\n",
              "      <td>2</td>\n",
              "      <td>2011-11-29 13:04:00</td>\n",
              "      <td>8.50</td>\n",
              "      <td>16479.0</td>\n",
              "      <td>United Kingdom</td>\n",
              "      <td>1</td>\n",
              "      <td>November</td>\n",
              "    </tr>\n",
              "    <tr>\n",
              "      <th>1</th>\n",
              "      <td>554092</td>\n",
              "      <td>21916</td>\n",
              "      <td>SET 12 RETRO WHITE CHALK STICKS</td>\n",
              "      <td>24</td>\n",
              "      <td>2011-05-22 12:41:00</td>\n",
              "      <td>0.42</td>\n",
              "      <td>17176.0</td>\n",
              "      <td>United Kingdom</td>\n",
              "      <td>6</td>\n",
              "      <td>May</td>\n",
              "    </tr>\n",
              "  </tbody>\n",
              "</table>\n",
              "</div>\n",
              "      <button class=\"colab-df-convert\" onclick=\"convertToInteractive('df-50a4e3ba-bb68-4328-9b04-d8d326634f23')\"\n",
              "              title=\"Convert this dataframe to an interactive table.\"\n",
              "              style=\"display:none;\">\n",
              "        \n",
              "  <svg xmlns=\"http://www.w3.org/2000/svg\" height=\"24px\"viewBox=\"0 0 24 24\"\n",
              "       width=\"24px\">\n",
              "    <path d=\"M0 0h24v24H0V0z\" fill=\"none\"/>\n",
              "    <path d=\"M18.56 5.44l.94 2.06.94-2.06 2.06-.94-2.06-.94-.94-2.06-.94 2.06-2.06.94zm-11 1L8.5 8.5l.94-2.06 2.06-.94-2.06-.94L8.5 2.5l-.94 2.06-2.06.94zm10 10l.94 2.06.94-2.06 2.06-.94-2.06-.94-.94-2.06-.94 2.06-2.06.94z\"/><path d=\"M17.41 7.96l-1.37-1.37c-.4-.4-.92-.59-1.43-.59-.52 0-1.04.2-1.43.59L10.3 9.45l-7.72 7.72c-.78.78-.78 2.05 0 2.83L4 21.41c.39.39.9.59 1.41.59.51 0 1.02-.2 1.41-.59l7.78-7.78 2.81-2.81c.8-.78.8-2.07 0-2.86zM5.41 20L4 18.59l7.72-7.72 1.47 1.35L5.41 20z\"/>\n",
              "  </svg>\n",
              "      </button>\n",
              "      \n",
              "  <style>\n",
              "    .colab-df-container {\n",
              "      display:flex;\n",
              "      flex-wrap:wrap;\n",
              "      gap: 12px;\n",
              "    }\n",
              "\n",
              "    .colab-df-convert {\n",
              "      background-color: #E8F0FE;\n",
              "      border: none;\n",
              "      border-radius: 50%;\n",
              "      cursor: pointer;\n",
              "      display: none;\n",
              "      fill: #1967D2;\n",
              "      height: 32px;\n",
              "      padding: 0 0 0 0;\n",
              "      width: 32px;\n",
              "    }\n",
              "\n",
              "    .colab-df-convert:hover {\n",
              "      background-color: #E2EBFA;\n",
              "      box-shadow: 0px 1px 2px rgba(60, 64, 67, 0.3), 0px 1px 3px 1px rgba(60, 64, 67, 0.15);\n",
              "      fill: #174EA6;\n",
              "    }\n",
              "\n",
              "    [theme=dark] .colab-df-convert {\n",
              "      background-color: #3B4455;\n",
              "      fill: #D2E3FC;\n",
              "    }\n",
              "\n",
              "    [theme=dark] .colab-df-convert:hover {\n",
              "      background-color: #434B5C;\n",
              "      box-shadow: 0px 1px 3px 1px rgba(0, 0, 0, 0.15);\n",
              "      filter: drop-shadow(0px 1px 2px rgba(0, 0, 0, 0.3));\n",
              "      fill: #FFFFFF;\n",
              "    }\n",
              "  </style>\n",
              "\n",
              "      <script>\n",
              "        const buttonEl =\n",
              "          document.querySelector('#df-50a4e3ba-bb68-4328-9b04-d8d326634f23 button.colab-df-convert');\n",
              "        buttonEl.style.display =\n",
              "          google.colab.kernel.accessAllowed ? 'block' : 'none';\n",
              "\n",
              "        async function convertToInteractive(key) {\n",
              "          const element = document.querySelector('#df-50a4e3ba-bb68-4328-9b04-d8d326634f23');\n",
              "          const dataTable =\n",
              "            await google.colab.kernel.invokeFunction('convertToInteractive',\n",
              "                                                     [key], {});\n",
              "          if (!dataTable) return;\n",
              "\n",
              "          const docLinkHtml = 'Like what you see? Visit the ' +\n",
              "            '<a target=\"_blank\" href=https://colab.research.google.com/notebooks/data_table.ipynb>data table notebook</a>'\n",
              "            + ' to learn more about interactive tables.';\n",
              "          element.innerHTML = '';\n",
              "          dataTable['output_type'] = 'display_data';\n",
              "          await google.colab.output.renderOutput(dataTable, element);\n",
              "          const docLink = document.createElement('div');\n",
              "          docLink.innerHTML = docLinkHtml;\n",
              "          element.appendChild(docLink);\n",
              "        }\n",
              "      </script>\n",
              "    </div>\n",
              "  </div>\n",
              "  "
            ]
          },
          "metadata": {},
          "execution_count": 13
        }
      ]
    },
    {
      "cell_type": "code",
      "metadata": {
        "id": "visible-assault",
        "colab": {
          "base_uri": "https://localhost:8080/",
          "height": 392
        },
        "outputId": "9b876f47-474c-43b6-879d-20fe08f77e58"
      },
      "source": [
        "HM_Data = data.pivot_table(index = 'MonthName',columns = 'DayOfWeek', values = 'UnitPrice', aggfunc='sum')\n",
        "plt.figure(figsize = (10,6))\n",
        "sns.heatmap(HM_Data, cmap = 'vlag').set(xlabel='', ylabel='')\n",
        "plt.title('Sales Value per Month and Day of Week', fontsize = 15)\n",
        "plt.show()"
      ],
      "id": "visible-assault",
      "execution_count": null,
      "outputs": [
        {
          "output_type": "display_data",
          "data": {
            "text/plain": [
              "<Figure size 720x432 with 2 Axes>"
            ],
            "image/png": "[encoded data removed]"
          },
          "metadata": {
            "needs_background": "light"
          }
        }
      ]
    },
    {
      "cell_type": "markdown",
      "metadata": {
        "id": "straight-doctor"
      },
      "source": [
        "#### 5. Find the top 10 customers who bought the most no.of items. Also find the top 10 Items bought by most no. of customers."
      ],
      "id": "straight-doctor"
    },
    {
      "cell_type": "code",
      "metadata": {
        "id": "municipal-blair",
        "colab": {
          "base_uri": "https://localhost:8080/"
        },
        "outputId": "1db290d4-ea78-4be2-f2f6-8c5ea2bdefdb"
      },
      "source": [
        "Top10Customers = data.groupby('CustomerID').agg({\"Quantity\":\"sum\"}).sort_values('Quantity', ascending=False).iloc[:10]\n",
        "print(Top10Customers)"
      ],
      "id": "municipal-blair",
      "execution_count": null,
      "outputs": [
        {
          "output_type": "stream",
          "name": "stdout",
          "text": [
            "            Quantity\n",
            "CustomerID          \n",
            "14646.0       177253\n",
            "14911.0        75797\n",
            "12415.0        72540\n",
            "17511.0        61880\n",
            "18102.0        58185\n",
            "13694.0        56404\n",
            "14298.0        54677\n",
            "17450.0        54049\n",
            "14156.0        52024\n",
            "16684.0        47361\n"
          ]
        }
      ]
    },
    {
      "cell_type": "code",
      "metadata": {
        "id": "JR1luwnRCPPS",
        "colab": {
          "base_uri": "https://localhost:8080/"
        },
        "outputId": "45dfa1eb-b9f2-4931-a336-db1a746261e9"
      },
      "source": [
        "top10Items = data.StockCode.value_counts(sort=True, ascending=False)[:10]\n",
        "print(top10Items)"
      ],
      "id": "JR1luwnRCPPS",
      "execution_count": null,
      "outputs": [
        {
          "output_type": "stream",
          "name": "stdout",
          "text": [
            "85123A    1912\n",
            "22423     1629\n",
            "85099B    1530\n",
            "47566     1329\n",
            "84879     1312\n",
            "20725     1253\n",
            "22720     1101\n",
            "23203     1031\n",
            "20727     1027\n",
            "22383     1009\n",
            "Name: StockCode, dtype: int64\n"
          ]
        }
      ]
    },
    {
      "cell_type": "markdown",
      "metadata": {
        "id": "royal-chancellor"
      },
      "source": [
        "## Feature Engineering and Transformation"
      ],
      "id": "royal-chancellor"
    },
    {
      "cell_type": "markdown",
      "metadata": {
        "id": "dietary-willow"
      },
      "source": [
        "### Create new features to uncover better insights and drop the unwanted columns\n",
        "\n",
        "* Create a new column which represents Total amount spent by each customer\n",
        "\n",
        "    **Hint:** Quantity * UnitPrice\n",
        "\n",
        "* Customer IDs are seen to be repeated. Maintain unique customer IDs by grouping and summing up all possible observations per customer.\n",
        "\n",
        "    **Hint:** [pandas.groupby.agg](https://pandas.pydata.org/pandas-docs/version/0.22/generated/pandas.core.groupby.DataFrameGroupBy.agg.html)\n",
        "\n",
        "**Note:** Perform the above operations in function, to reuse and apply the same for test data"
      ],
      "id": "dietary-willow"
    },
    {
      "cell_type": "markdown",
      "source": [
        "Note that `DayOfWeek` is a categorical feature and K-Means being a distance based algorithm does not apply well on categorical variables. The recommended way to convert days of week (cyclical feature) to a numerical encoding is to use a trigonometric transformation, as shown [here](https://towardsdatascience.com/stop-one-hot-encoding-your-time-based-features-24c699face2f). We will use the same below."
      ],
      "metadata": {
        "id": "IaVAurV7PsuZ"
      },
      "id": "IaVAurV7PsuZ"
    },
    {
      "cell_type": "code",
      "metadata": {
        "id": "B_32B2W_R1sx"
      },
      "source": [
        "def transformation(column):\n",
        "  max_value = column.max()\n",
        "  sin_values = [math.sin((2*math.pi*x)/max_value) for x in list(column)]\n",
        "  cos_values = [math.cos((2*math.pi*x)/max_value) for x in list(column)]\n",
        "  return sin_values, cos_values\n",
        "\n",
        "def feature_engineering(df):\n",
        "  # total spend by each customer\n",
        "  df['TotalSpend'] = df['Quantity'] * df['UnitPrice']\n",
        "  # unique customers\n",
        "  data_grouped = df.groupby('CustomerID')[['Quantity','TotalSpend']].agg('sum').reset_index()\n",
        "  # maximum visits on day of week by each customer\n",
        "  data_grouped['DayOfWeek'] = df.groupby('CustomerID')['DayOfWeek'].agg('max').reset_index()['DayOfWeek']\n",
        "  # Convert 'DayOfWeek' to numerical feature\n",
        "  data_grouped['DayOfWeek_sin'], data_grouped['DayOfWeek_cos'] = transformation(data_grouped['DayOfWeek'].values)\n",
        "  # Drop 'DayOfWeek' column from dataframe\n",
        "  data_grouped.drop('DayOfWeek', axis=1, inplace=True)\n",
        "  return data_grouped"
      ],
      "execution_count": null,
      "outputs": [],
      "id": "B_32B2W_R1sx"
    },
    {
      "cell_type": "code",
      "metadata": {
        "colab": {
          "base_uri": "https://localhost:8080/",
          "height": 206
        },
        "outputId": "9d5e922b-f5ca-44c3-c435-1110c1c74432",
        "id": "8WbzBOmYR1sy"
      },
      "source": [
        "data_grouped = feature_engineering(data)\n",
        "data_grouped.head()"
      ],
      "execution_count": null,
      "outputs": [
        {
          "output_type": "execute_result",
          "data": {
            "text/plain": [
              "   CustomerID  Quantity  TotalSpend  DayOfWeek_sin  DayOfWeek_cos\n",
              "0     12347.0      2352     4091.80   1.224647e-16           -1.0\n",
              "1     12348.0      2188     1395.48  -2.449294e-16            1.0\n",
              "2     12349.0       605     1241.26   0.000000e+00            1.0\n",
              "3     12350.0       196      294.40   8.660254e-01           -0.5\n",
              "4     12352.0       526     1385.74   1.224647e-16           -1.0"
            ],
            "text/html": [
              "\n",
              "  <div id=\"df-f0cd11a2-a617-42a5-82c9-a58233ce4adb\">\n",
              "    <div class=\"colab-df-container\">\n",
              "      <div>\n",
              "<style scoped>\n",
              "    .dataframe tbody tr th:only-of-type {\n",
              "        vertical-align: middle;\n",
              "    }\n",
              "\n",
              "    .dataframe tbody tr th {\n",
              "        vertical-align: top;\n",
              "    }\n",
              "\n",
              "    .dataframe thead th {\n",
              "        text-align: right;\n",
              "    }\n",
              "</style>\n",
              "<table border=\"1\" class=\"dataframe\">\n",
              "  <thead>\n",
              "    <tr style=\"text-align: right;\">\n",
              "      <th></th>\n",
              "      <th>CustomerID</th>\n",
              "      <th>Quantity</th>\n",
              "      <th>TotalSpend</th>\n",
              "      <th>DayOfWeek_sin</th>\n",
              "      <th>DayOfWeek_cos</th>\n",
              "    </tr>\n",
              "  </thead>\n",
              "  <tbody>\n",
              "    <tr>\n",
              "      <th>0</th>\n",
              "      <td>12347.0</td>\n",
              "      <td>2352</td>\n",
              "      <td>4091.80</td>\n",
              "      <td>1.224647e-16</td>\n",
              "      <td>-1.0</td>\n",
              "    </tr>\n",
              "    <tr>\n",
              "      <th>1</th>\n",
              "      <td>12348.0</td>\n",
              "      <td>2188</td>\n",
              "      <td>1395.48</td>\n",
              "      <td>-2.449294e-16</td>\n",
              "      <td>1.0</td>\n",
              "    </tr>\n",
              "    <tr>\n",
              "      <th>2</th>\n",
              "      <td>12349.0</td>\n",
              "      <td>605</td>\n",
              "      <td>1241.26</td>\n",
              "      <td>0.000000e+00</td>\n",
              "      <td>1.0</td>\n",
              "    </tr>\n",
              "    <tr>\n",
              "      <th>3</th>\n",
              "      <td>12350.0</td>\n",
              "      <td>196</td>\n",
              "      <td>294.40</td>\n",
              "      <td>8.660254e-01</td>\n",
              "      <td>-0.5</td>\n",
              "    </tr>\n",
              "    <tr>\n",
              "      <th>4</th>\n",
              "      <td>12352.0</td>\n",
              "      <td>526</td>\n",
              "      <td>1385.74</td>\n",
              "      <td>1.224647e-16</td>\n",
              "      <td>-1.0</td>\n",
              "    </tr>\n",
              "  </tbody>\n",
              "</table>\n",
              "</div>\n",
              "      <button class=\"colab-df-convert\" onclick=\"convertToInteractive('df-f0cd11a2-a617-42a5-82c9-a58233ce4adb')\"\n",
              "              title=\"Convert this dataframe to an interactive table.\"\n",
              "              style=\"display:none;\">\n",
              "        \n",
              "  <svg xmlns=\"http://www.w3.org/2000/svg\" height=\"24px\"viewBox=\"0 0 24 24\"\n",
              "       width=\"24px\">\n",
              "    <path d=\"M0 0h24v24H0V0z\" fill=\"none\"/>\n",
              "    <path d=\"M18.56 5.44l.94 2.06.94-2.06 2.06-.94-2.06-.94-.94-2.06-.94 2.06-2.06.94zm-11 1L8.5 8.5l.94-2.06 2.06-.94-2.06-.94L8.5 2.5l-.94 2.06-2.06.94zm10 10l.94 2.06.94-2.06 2.06-.94-2.06-.94-.94-2.06-.94 2.06-2.06.94z\"/><path d=\"M17.41 7.96l-1.37-1.37c-.4-.4-.92-.59-1.43-.59-.52 0-1.04.2-1.43.59L10.3 9.45l-7.72 7.72c-.78.78-.78 2.05 0 2.83L4 21.41c.39.39.9.59 1.41.59.51 0 1.02-.2 1.41-.59l7.78-7.78 2.81-2.81c.8-.78.8-2.07 0-2.86zM5.41 20L4 18.59l7.72-7.72 1.47 1.35L5.41 20z\"/>\n",
              "  </svg>\n",
              "      </button>\n",
              "      \n",
              "  <style>\n",
              "    .colab-df-container {\n",
              "      display:flex;\n",
              "      flex-wrap:wrap;\n",
              "      gap: 12px;\n",
              "    }\n",
              "\n",
              "    .colab-df-convert {\n",
              "      background-color: #E8F0FE;\n",
              "      border: none;\n",
              "      border-radius: 50%;\n",
              "      cursor: pointer;\n",
              "      display: none;\n",
              "      fill: #1967D2;\n",
              "      height: 32px;\n",
              "      padding: 0 0 0 0;\n",
              "      width: 32px;\n",
              "    }\n",
              "\n",
              "    .colab-df-convert:hover {\n",
              "      background-color: #E2EBFA;\n",
              "      box-shadow: 0px 1px 2px rgba(60, 64, 67, 0.3), 0px 1px 3px 1px rgba(60, 64, 67, 0.15);\n",
              "      fill: #174EA6;\n",
              "    }\n",
              "\n",
              "    [theme=dark] .colab-df-convert {\n",
              "      background-color: #3B4455;\n",
              "      fill: #D2E3FC;\n",
              "    }\n",
              "\n",
              "    [theme=dark] .colab-df-convert:hover {\n",
              "      background-color: #434B5C;\n",
              "      box-shadow: 0px 1px 3px 1px rgba(0, 0, 0, 0.15);\n",
              "      filter: drop-shadow(0px 1px 2px rgba(0, 0, 0, 0.3));\n",
              "      fill: #FFFFFF;\n",
              "    }\n",
              "  </style>\n",
              "\n",
              "      <script>\n",
              "        const buttonEl =\n",
              "          document.querySelector('#df-f0cd11a2-a617-42a5-82c9-a58233ce4adb button.colab-df-convert');\n",
              "        buttonEl.style.display =\n",
              "          google.colab.kernel.accessAllowed ? 'block' : 'none';\n",
              "\n",
              "        async function convertToInteractive(key) {\n",
              "          const element = document.querySelector('#df-f0cd11a2-a617-42a5-82c9-a58233ce4adb');\n",
              "          const dataTable =\n",
              "            await google.colab.kernel.invokeFunction('convertToInteractive',\n",
              "                                                     [key], {});\n",
              "          if (!dataTable) return;\n",
              "\n",
              "          const docLinkHtml = 'Like what you see? Visit the ' +\n",
              "            '<a target=\"_blank\" href=https://colab.research.google.com/notebooks/data_table.ipynb>data table notebook</a>'\n",
              "            + ' to learn more about interactive tables.';\n",
              "          element.innerHTML = '';\n",
              "          dataTable['output_type'] = 'display_data';\n",
              "          await google.colab.output.renderOutput(dataTable, element);\n",
              "          const docLink = document.createElement('div');\n",
              "          docLink.innerHTML = docLinkHtml;\n",
              "          element.appendChild(docLink);\n",
              "        }\n",
              "      </script>\n",
              "    </div>\n",
              "  </div>\n",
              "  "
            ]
          },
          "metadata": {},
          "execution_count": 18
        }
      ],
      "id": "8WbzBOmYR1sy"
    },
    {
      "cell_type": "markdown",
      "metadata": {
        "id": "respected-empire"
      },
      "source": [
        "### Scale the data\n",
        "\n",
        "Apply `StandardScaler` on the features."
      ],
      "id": "respected-empire"
    },
    {
      "cell_type": "code",
      "metadata": {
        "id": "requested-crystal"
      },
      "source": [
        "# Select the features\n",
        "X = data_grouped.iloc[:, 1:]"
      ],
      "id": "requested-crystal",
      "execution_count": null,
      "outputs": []
    },
    {
      "cell_type": "code",
      "metadata": {
        "id": "missing-capitol",
        "colab": {
          "base_uri": "https://localhost:8080/"
        },
        "outputId": "2c43d4c1-ffe5-4c2c-ec23-28e5fda182a5"
      },
      "source": [
        "# Feature Scaling\n",
        "\n",
        "sc = StandardScaler()\n",
        "X = sc.fit_transform(X)\n",
        "X.shape, X.min(), X.max()"
      ],
      "id": "missing-capitol",
      "execution_count": null,
      "outputs": [
        {
          "output_type": "execute_result",
          "data": {
            "text/plain": [
              "((4316, 4), -1.437226931089778, 41.1486005867241)"
            ]
          },
          "metadata": {},
          "execution_count": 20
        }
      ]
    },
    {
      "cell_type": "markdown",
      "metadata": {
        "id": "smooth-florist"
      },
      "source": [
        "## Clustering"
      ],
      "id": "smooth-florist"
    },
    {
      "cell_type": "markdown",
      "metadata": {
        "id": "rn1qD44PI0H_"
      },
      "source": [
        "### Apply k-means algorithm to identify a specific number of clusters\n",
        "\n",
        "\n",
        "* Fit the k-means model\n",
        "\n",
        "* Extract and store the cluster centroids\n",
        "\n",
        "Below are the parameters for k-means, which are helpful\n",
        "\n",
        "**n_clusters** is no. of clusters specified\n",
        "\n",
        "**k-means++** is a random initialization method for centroids to avoid random initialisation trap\n",
        "\n",
        "**max_iter** is max no of iterations defined when k-means is running\n",
        "\n",
        "**n_init** is no. of times k-means will run with different initial centroids\n",
        "\n",
        "[why-is-k-means-slower-than-random-initialization-k-means](https://stats.stackexchange.com/questions/185396/why-is-k-means-slower-than-random-initialization-k-means/185422)"
      ],
      "id": "rn1qD44PI0H_"
    },
    {
      "cell_type": "code",
      "metadata": {
        "id": "palestinian-parameter"
      },
      "source": [
        "# Fitting k-means to the dataset\n",
        "kmeans = KMeans(n_clusters = 7, init = 'k-means++')\n",
        "y_kmeans = kmeans.fit_predict(X)"
      ],
      "id": "palestinian-parameter",
      "execution_count": null,
      "outputs": []
    },
    {
      "cell_type": "markdown",
      "metadata": {
        "id": "reasonable-burke"
      },
      "source": [
        "#### Find the optimal number of clusters (K) by using the [Elbow method](https://pythonprogramminglanguage.com/kmeans-elbow-method/).\n",
        "\n",
        "Use the optimal no. of clusters and store the cluster centroids"
      ],
      "id": "reasonable-burke"
    },
    {
      "cell_type": "code",
      "metadata": {
        "id": "exciting-senator"
      },
      "source": [
        "# Using the Elbow method to find the optimal no.of clusters\n",
        "inertia = []\n",
        "clusters, centroids = {}, {}\n",
        "\n",
        "for i in range(2,15):\n",
        "    kmeans = KMeans(n_clusters = i, init ='k-means++',max_iter=300,n_init=10)\n",
        "    kmeans.fit(X)\n",
        "    clusters[i] = kmeans.fit_predict(X)\n",
        "    centroids[i] = kmeans.cluster_centers_\n",
        "    inertia.append(kmeans.inertia_)"
      ],
      "id": "exciting-senator",
      "execution_count": null,
      "outputs": []
    },
    {
      "cell_type": "code",
      "metadata": {
        "id": "architectural-gross",
        "colab": {
          "base_uri": "https://localhost:8080/",
          "height": 295
        },
        "outputId": "1584e65a-1272-4758-bad4-8ee24aa39c88"
      },
      "source": [
        "# plot the clusters vs inertia\n",
        "plt.plot(range(2,15) , inertia)\n",
        "plt.title('Elbow Method')\n",
        "plt.xlabel('Clusters')\n",
        "plt.ylabel('Inertia')\n",
        "plt.show()"
      ],
      "id": "architectural-gross",
      "execution_count": null,
      "outputs": [
        {
          "output_type": "display_data",
          "data": {
            "text/plain": [
              "<Figure size 432x288 with 1 Axes>"
            ],
            "image/png": "[encoded data removed]"
          },
          "metadata": {
            "needs_background": "light"
          }
        }
      ]
    },
    {
      "cell_type": "code",
      "metadata": {
        "id": "interesting-delta"
      },
      "source": [
        "# Optimal cluster at 6, so choosing centroids\n",
        "centroids_optimal = centroids[6]\n",
        "clusters_optimal = clusters[6]"
      ],
      "id": "interesting-delta",
      "execution_count": null,
      "outputs": []
    },
    {
      "cell_type": "markdown",
      "metadata": {
        "id": "0q7nKnfVK_Yj"
      },
      "source": [
        "### Apply DBSCAN algorithm for clustering\n",
        "\n",
        "- Compare the results of clusters from k-means and DBSCAN\n"
      ],
      "id": "0q7nKnfVK_Yj"
    },
    {
      "cell_type": "code",
      "metadata": {
        "id": "GP1PwIKeLA8u",
        "colab": {
          "base_uri": "https://localhost:8080/"
        },
        "outputId": "cff551a5-11f1-4466-f8d9-282c59a4d7ff"
      },
      "source": [
        "# Perform DBSCAN on data\n",
        "from sklearn.cluster import DBSCAN\n",
        "dbscan = DBSCAN(eps=0.24, min_samples=7)\n",
        "dbscan.fit(X)\n",
        "db_labels = dbscan.labels_\n",
        "print(\"Unique clusters in data: \", np.unique(db_labels))"
      ],
      "id": "GP1PwIKeLA8u",
      "execution_count": null,
      "outputs": [
        {
          "output_type": "stream",
          "name": "stdout",
          "text": [
            "Unique clusters in data:  [-1  0  1  2  3  4]\n"
          ]
        }
      ]
    },
    {
      "cell_type": "markdown",
      "metadata": {
        "id": "FarGC20zgjHj"
      },
      "source": [
        "### Analyze the clusters\n",
        "\n",
        "\n",
        "- consider two features and visualize the clusters with different colors using the predicted cluster centers.\n",
        "\n",
        "  **Hint:** 2D plot\n",
        "\n",
        "- consider three features and visualize the clusters with different colors using the predicted cluster centers.\n",
        "\n",
        "  **Hint:** [3D plot](https://matplotlib.org/stable/gallery/mplot3d/scatter3d.html\n",
        ")"
      ],
      "id": "FarGC20zgjHj"
    },
    {
      "cell_type": "code",
      "metadata": {
        "id": "wi0-h4zbgjHk",
        "colab": {
          "base_uri": "https://localhost:8080/",
          "height": 295
        },
        "outputId": "6408ae72-553e-4bd0-c5cf-52284fbd299c"
      },
      "source": [
        "# Visualising the clusters considering Unit Price and Quantity\n",
        "plt.scatter(X[clusters_optimal == 0, 0], X[clusters_optimal == 0, 1], c = 'red', label = 'cluster 1')\n",
        "plt.scatter(X[clusters_optimal == 1, 0], X[clusters_optimal == 1, 1], c = 'blue', label = 'cluster 2')\n",
        "plt.scatter(X[clusters_optimal == 2, 0], X[clusters_optimal == 2, 1], c = 'green', label = 'cluster 3')\n",
        "plt.scatter(X[clusters_optimal == 3, 0], X[clusters_optimal == 3, 1], c = 'magenta', label = 'cluster 4')\n",
        "plt.scatter(X[clusters_optimal == 4, 0], X[clusters_optimal == 4, 1], c = 'k', label = 'cluster 5')\n",
        "plt.scatter(X[clusters_optimal == 5, 0], X[clusters_optimal == 5, 1], c = 'brown', label = 'cluster 6')\n",
        "plt.scatter(centroids_optimal[:, 0], centroids_optimal[:, 1], s = 100, c = 'yellow', label = 'Centroids')\n",
        "plt.title('Clusters of customers')\n",
        "plt.xlabel('Quantity')\n",
        "plt.ylabel('TotalSpend')\n",
        "plt.legend()\n",
        "plt.show()"
      ],
      "id": "wi0-h4zbgjHk",
      "execution_count": null,
      "outputs": [
        {
          "output_type": "display_data",
          "data": {
            "text/plain": [
              "<Figure size 432x288 with 1 Axes>"
            ],
            "image/png": "[encoded data removed]"
          },
          "metadata": {
            "needs_background": "light"
          }
        }
      ]
    },
    {
      "cell_type": "markdown",
      "metadata": {
        "id": "LUP644eoSLYu"
      },
      "source": [
        "From the above plot, we can see the clusters are separable in 2D plot using scaled features\n",
        "\n",
        "Let's visualize them in 3D considering any 3 features:\n",
        "- `TotalSpend`, `Quantity`, `DayOfWeek_sin`\n",
        "- `TotalSpend`, `Quantity`, `DayOfWeek_cos`"
      ],
      "id": "LUP644eoSLYu"
    },
    {
      "cell_type": "code",
      "source": [
        "# Visualising all the clusters in 3D using `TotalSpend`, `Quantity`, `DayOfWeek_sin`\n",
        "\n",
        "fig = plt.figure(figsize=(10,8))\n",
        "ax = plt.axes(projection='3d')\n",
        "ax.scatter(X[clusters_optimal == 0, 0], X[clusters_optimal == 0, 1], X[clusters_optimal == 0, 2], c = 'red', label = 'cluster 1')\n",
        "ax.scatter(X[clusters_optimal == 1, 0], X[clusters_optimal == 1, 1], X[clusters_optimal == 1, 2], c = 'blue', label = 'cluster 2')\n",
        "ax.scatter(X[clusters_optimal == 2, 0], X[clusters_optimal == 2, 1], X[clusters_optimal == 2, 2], c = 'green', label = 'cluster 3')\n",
        "ax.scatter(X[clusters_optimal == 3, 0], X[clusters_optimal == 3, 1], X[clusters_optimal == 3, 2], c = 'magenta', label = 'cluster 4')\n",
        "ax.scatter(X[clusters_optimal == 4, 0], X[clusters_optimal == 4, 1], X[clusters_optimal == 4, 2], c = 'k', label = 'cluster 5')\n",
        "ax.scatter(X[clusters_optimal == 5, 0], X[clusters_optimal == 5, 1], X[clusters_optimal == 5, 2], c = 'brown', label = 'cluster 6')\n",
        "ax.set_xlabel(\"Quantity\")\n",
        "ax.set_ylabel(\"TotalSpend\")\n",
        "ax.set_zlabel(\"DayOfWeek_sin\")\n",
        "ax.legend()\n",
        "plt.show()"
      ],
      "metadata": {
        "colab": {
          "base_uri": "https://localhost:8080/",
          "height": 466
        },
        "id": "-fxDlaY3dFW_",
        "outputId": "45def62e-0ee4-42cb-a62c-701f50c65f30"
      },
      "execution_count": null,
      "outputs": [
        {
          "output_type": "display_data",
          "data": {
            "text/plain": [
              "<Figure size 720x576 with 1 Axes>"
            ],
            "image/png": "[encoded data removed]"
          },
          "metadata": {
            "needs_background": "light"
          }
        }
      ],
      "id": "-fxDlaY3dFW_"
    },
    {
      "cell_type": "code",
      "source": [
        "# Visualising all the clusters in 3D using `TotalSpend`, `Quantity`, `DayOfWeek_cos`\n",
        "\n",
        "fig = plt.figure(figsize=(10,8))\n",
        "ax = plt.axes(projection='3d')\n",
        "ax.scatter(X[clusters_optimal == 0, 0], X[clusters_optimal == 0, 1], X[clusters_optimal == 0, 3], c = 'red', label = 'cluster 1')\n",
        "ax.scatter(X[clusters_optimal == 1, 0], X[clusters_optimal == 1, 1], X[clusters_optimal == 1, 3], c = 'blue', label = 'cluster 2')\n",
        "ax.scatter(X[clusters_optimal == 2, 0], X[clusters_optimal == 2, 1], X[clusters_optimal == 2, 3], c = 'green', label = 'cluster 3')\n",
        "ax.scatter(X[clusters_optimal == 3, 0], X[clusters_optimal == 3, 1], X[clusters_optimal == 3, 3], c = 'magenta', label = 'cluster 4')\n",
        "ax.scatter(X[clusters_optimal == 4, 0], X[clusters_optimal == 4, 1], X[clusters_optimal == 4, 3], c = 'k', label = 'cluster 5')\n",
        "ax.scatter(X[clusters_optimal == 5, 0], X[clusters_optimal == 5, 1], X[clusters_optimal == 5, 3], c = 'brown', label = 'cluster 6')\n",
        "ax.set_xlabel(\"Quantity\")\n",
        "ax.set_ylabel(\"TotalSpend\")\n",
        "ax.set_zlabel(\"DayOfWeek_cos\")\n",
        "ax.legend()\n",
        "plt.show()"
      ],
      "metadata": {
        "colab": {
          "base_uri": "https://localhost:8080/",
          "height": 466
        },
        "id": "WSrFHaovc1AP",
        "outputId": "501fd24c-6c5a-48ab-a657-7d9b3e369eee"
      },
      "execution_count": null,
      "outputs": [
        {
          "output_type": "display_data",
          "data": {
            "text/plain": [
              "<Figure size 720x576 with 1 Axes>"
            ],
            "image/png": "[encoded data removed]"
          },
          "metadata": {
            "needs_background": "light"
          }
        }
      ],
      "id": "WSrFHaovc1AP"
    },
    {
      "cell_type": "markdown",
      "metadata": {
        "id": "zef_pWaE20pP"
      },
      "source": [
        "### Train a supervised algorithm on clustered data\n",
        "\n",
        "This will allow us to predict cluster numbers (label) for each test data instance\n",
        "\n",
        "* Create labelled data with k-means cluster labels\n",
        "  \n",
        "  **Hint**: [`kmeans.labels_`](https://scikit-learn.org/stable/modules/generated/sklearn.cluster.KMeans.html\n",
        ")\n",
        "* Split the data into train and validation sets\n",
        "* Train a supervised algorithm on the train data\n",
        "* Find the accuracy of the model using validation data\n",
        "* Use this model to predict the labels for the Test data (note: Test data is provided separately below)"
      ],
      "id": "zef_pWaE20pP"
    },
    {
      "cell_type": "code",
      "metadata": {
        "id": "zztS3U3y3ZvU",
        "colab": {
          "base_uri": "https://localhost:8080/",
          "height": 143
        },
        "outputId": "3f497c6d-b324-4298-ee72-ab8be85c736c"
      },
      "source": [
        "data_grouped['Label'] = clusters[6]\n",
        "data_grouped.head(3)"
      ],
      "id": "zztS3U3y3ZvU",
      "execution_count": null,
      "outputs": [
        {
          "output_type": "execute_result",
          "data": {
            "text/plain": [
              "   CustomerID  Quantity  TotalSpend  DayOfWeek_sin  DayOfWeek_cos  Label\n",
              "0     12347.0      2352     4091.80   1.224647e-16           -1.0      4\n",
              "1     12348.0      2188     1395.48  -2.449294e-16            1.0      2\n",
              "2     12349.0       605     1241.26   0.000000e+00            1.0      2"
            ],
            "text/html": [
              "\n",
              "  <div id=\"df-4385ca49-a336-474c-8b32-0c3408bd97c3\">\n",
              "    <div class=\"colab-df-container\">\n",
              "      <div>\n",
              "<style scoped>\n",
              "    .dataframe tbody tr th:only-of-type {\n",
              "        vertical-align: middle;\n",
              "    }\n",
              "\n",
              "    .dataframe tbody tr th {\n",
              "        vertical-align: top;\n",
              "    }\n",
              "\n",
              "    .dataframe thead th {\n",
              "        text-align: right;\n",
              "    }\n",
              "</style>\n",
              "<table border=\"1\" class=\"dataframe\">\n",
              "  <thead>\n",
              "    <tr style=\"text-align: right;\">\n",
              "      <th></th>\n",
              "      <th>CustomerID</th>\n",
              "      <th>Quantity</th>\n",
              "      <th>TotalSpend</th>\n",
              "      <th>DayOfWeek_sin</th>\n",
              "      <th>DayOfWeek_cos</th>\n",
              "      <th>Label</th>\n",
              "    </tr>\n",
              "  </thead>\n",
              "  <tbody>\n",
              "    <tr>\n",
              "      <th>0</th>\n",
              "      <td>12347.0</td>\n",
              "      <td>2352</td>\n",
              "      <td>4091.80</td>\n",
              "      <td>1.224647e-16</td>\n",
              "      <td>-1.0</td>\n",
              "      <td>4</td>\n",
              "    </tr>\n",
              "    <tr>\n",
              "      <th>1</th>\n",
              "      <td>12348.0</td>\n",
              "      <td>2188</td>\n",
              "      <td>1395.48</td>\n",
              "      <td>-2.449294e-16</td>\n",
              "      <td>1.0</td>\n",
              "      <td>2</td>\n",
              "    </tr>\n",
              "    <tr>\n",
              "      <th>2</th>\n",
              "      <td>12349.0</td>\n",
              "      <td>605</td>\n",
              "      <td>1241.26</td>\n",
              "      <td>0.000000e+00</td>\n",
              "      <td>1.0</td>\n",
              "      <td>2</td>\n",
              "    </tr>\n",
              "  </tbody>\n",
              "</table>\n",
              "</div>\n",
              "      <button class=\"colab-df-convert\" onclick=\"convertToInteractive('df-4385ca49-a336-474c-8b32-0c3408bd97c3')\"\n",
              "              title=\"Convert this dataframe to an interactive table.\"\n",
              "              style=\"display:none;\">\n",
              "        \n",
              "  <svg xmlns=\"http://www.w3.org/2000/svg\" height=\"24px\"viewBox=\"0 0 24 24\"\n",
              "       width=\"24px\">\n",
              "    <path d=\"M0 0h24v24H0V0z\" fill=\"none\"/>\n",
              "    <path d=\"M18.56 5.44l.94 2.06.94-2.06 2.06-.94-2.06-.94-.94-2.06-.94 2.06-2.06.94zm-11 1L8.5 8.5l.94-2.06 2.06-.94-2.06-.94L8.5 2.5l-.94 2.06-2.06.94zm10 10l.94 2.06.94-2.06 2.06-.94-2.06-.94-.94-2.06-.94 2.06-2.06.94z\"/><path d=\"M17.41 7.96l-1.37-1.37c-.4-.4-.92-.59-1.43-.59-.52 0-1.04.2-1.43.59L10.3 9.45l-7.72 7.72c-.78.78-.78 2.05 0 2.83L4 21.41c.39.39.9.59 1.41.59.51 0 1.02-.2 1.41-.59l7.78-7.78 2.81-2.81c.8-.78.8-2.07 0-2.86zM5.41 20L4 18.59l7.72-7.72 1.47 1.35L5.41 20z\"/>\n",
              "  </svg>\n",
              "      </button>\n",
              "      \n",
              "  <style>\n",
              "    .colab-df-container {\n",
              "      display:flex;\n",
              "      flex-wrap:wrap;\n",
              "      gap: 12px;\n",
              "    }\n",
              "\n",
              "    .colab-df-convert {\n",
              "      background-color: #E8F0FE;\n",
              "      border: none;\n",
              "      border-radius: 50%;\n",
              "      cursor: pointer;\n",
              "      display: none;\n",
              "      fill: #1967D2;\n",
              "      height: 32px;\n",
              "      padding: 0 0 0 0;\n",
              "      width: 32px;\n",
              "    }\n",
              "\n",
              "    .colab-df-convert:hover {\n",
              "      background-color: #E2EBFA;\n",
              "      box-shadow: 0px 1px 2px rgba(60, 64, 67, 0.3), 0px 1px 3px 1px rgba(60, 64, 67, 0.15);\n",
              "      fill: #174EA6;\n",
              "    }\n",
              "\n",
              "    [theme=dark] .colab-df-convert {\n",
              "      background-color: #3B4455;\n",
              "      fill: #D2E3FC;\n",
              "    }\n",
              "\n",
              "    [theme=dark] .colab-df-convert:hover {\n",
              "      background-color: #434B5C;\n",
              "      box-shadow: 0px 1px 3px 1px rgba(0, 0, 0, 0.15);\n",
              "      filter: drop-shadow(0px 1px 2px rgba(0, 0, 0, 0.3));\n",
              "      fill: #FFFFFF;\n",
              "    }\n",
              "  </style>\n",
              "\n",
              "      <script>\n",
              "        const buttonEl =\n",
              "          document.querySelector('#df-4385ca49-a336-474c-8b32-0c3408bd97c3 button.colab-df-convert');\n",
              "        buttonEl.style.display =\n",
              "          google.colab.kernel.accessAllowed ? 'block' : 'none';\n",
              "\n",
              "        async function convertToInteractive(key) {\n",
              "          const element = document.querySelector('#df-4385ca49-a336-474c-8b32-0c3408bd97c3');\n",
              "          const dataTable =\n",
              "            await google.colab.kernel.invokeFunction('convertToInteractive',\n",
              "                                                     [key], {});\n",
              "          if (!dataTable) return;\n",
              "\n",
              "          const docLinkHtml = 'Like what you see? Visit the ' +\n",
              "            '<a target=\"_blank\" href=https://colab.research.google.com/notebooks/data_table.ipynb>data table notebook</a>'\n",
              "            + ' to learn more about interactive tables.';\n",
              "          element.innerHTML = '';\n",
              "          dataTable['output_type'] = 'display_data';\n",
              "          await google.colab.output.renderOutput(dataTable, element);\n",
              "          const docLink = document.createElement('div');\n",
              "          docLink.innerHTML = docLinkHtml;\n",
              "          element.appendChild(docLink);\n",
              "        }\n",
              "      </script>\n",
              "    </div>\n",
              "  </div>\n",
              "  "
            ]
          },
          "metadata": {},
          "execution_count": 29
        }
      ]
    },
    {
      "cell_type": "code",
      "metadata": {
        "id": "YLCHn9-j5ooT",
        "colab": {
          "base_uri": "https://localhost:8080/"
        },
        "outputId": "f83c5f06-5c70-47e4-b6a9-a96d2b2e0dbc"
      },
      "source": [
        "features = data_grouped.iloc[:,1:-1]\n",
        "labels = data_grouped.iloc[:,-1]\n",
        "X_train, X_test, y_train, y_test = train_test_split(features, labels, test_size=0.25,random_state=42)\n",
        "X_train.shape, X_test.shape, y_train.shape, y_test.shape"
      ],
      "id": "YLCHn9-j5ooT",
      "execution_count": null,
      "outputs": [
        {
          "output_type": "execute_result",
          "data": {
            "text/plain": [
              "((3237, 4), (1079, 4), (3237,), (1079,))"
            ]
          },
          "metadata": {},
          "execution_count": 30
        }
      ]
    },
    {
      "cell_type": "code",
      "metadata": {
        "id": "RU2QrFi06aKA",
        "colab": {
          "base_uri": "https://localhost:8080/"
        },
        "outputId": "d1aafa35-0bba-47ac-eb6e-3e29e5b958b1"
      },
      "source": [
        "from sklearn.ensemble import RandomForestClassifier\n",
        "rf = RandomForestClassifier()\n",
        "rf.fit(X_train,y_train)\n",
        "rf.score(X_test, y_test)"
      ],
      "id": "RU2QrFi06aKA",
      "execution_count": null,
      "outputs": [
        {
          "output_type": "execute_result",
          "data": {
            "text/plain": [
              "0.9981464318813716"
            ]
          },
          "metadata": {},
          "execution_count": 31
        }
      ]
    },
    {
      "cell_type": "markdown",
      "metadata": {
        "id": "cUWhJeDpzh7Z"
      },
      "source": [
        "### Evaluation of Test Data\n",
        "\n",
        "* Format the test data in the same format as the train data.\n",
        "* predict it with trained supervised ML model"
      ],
      "id": "cUWhJeDpzh7Z"
    },
    {
      "cell_type": "code",
      "metadata": {
        "id": "G16_wae9zjv7",
        "colab": {
          "base_uri": "https://localhost:8080/",
          "height": 143
        },
        "outputId": "e9b6fb3d-516d-4269-905d-553f3318b85a"
      },
      "source": [
        "test = pd.read_csv(\"Online_Retail_Test.csv\")\n",
        "test.head(3)"
      ],
      "id": "G16_wae9zjv7",
      "execution_count": null,
      "outputs": [
        {
          "output_type": "execute_result",
          "data": {
            "text/plain": [
              "  InvoiceNo StockCode                     Description  Quantity  \\\n",
              "0    555200     71459  HANGING JAM JAR T-LIGHT HOLDER        24   \n",
              "1    554974     21128              GOLD FISHING GNOME         4   \n",
              "2    550972     21086     SET/6 RED SPOTTY PAPER CUPS         4   \n",
              "\n",
              "           InvoiceDate  UnitPrice  CustomerID         Country  \n",
              "0  2011-06-01 12:05:00       0.85     17315.0  United Kingdom  \n",
              "1  2011-05-27 17:14:00       6.95     14031.0  United Kingdom  \n",
              "2  2011-04-21 17:05:00       0.65     14031.0  United Kingdom  "
            ],
            "text/html": [
              "\n",
              "  <div id=\"df-8d356809-c662-492b-bdd9-723523e5f983\">\n",
              "    <div class=\"colab-df-container\">\n",
              "      <div>\n",
              "<style scoped>\n",
              "    .dataframe tbody tr th:only-of-type {\n",
              "        vertical-align: middle;\n",
              "    }\n",
              "\n",
              "    .dataframe tbody tr th {\n",
              "        vertical-align: top;\n",
              "    }\n",
              "\n",
              "    .dataframe thead th {\n",
              "        text-align: right;\n",
              "    }\n",
              "</style>\n",
              "<table border=\"1\" class=\"dataframe\">\n",
              "  <thead>\n",
              "    <tr style=\"text-align: right;\">\n",
              "      <th></th>\n",
              "      <th>InvoiceNo</th>\n",
              "      <th>StockCode</th>\n",
              "      <th>Description</th>\n",
              "      <th>Quantity</th>\n",
              "      <th>InvoiceDate</th>\n",
              "      <th>UnitPrice</th>\n",
              "      <th>CustomerID</th>\n",
              "      <th>Country</th>\n",
              "    </tr>\n",
              "  </thead>\n",
              "  <tbody>\n",
              "    <tr>\n",
              "      <th>0</th>\n",
              "      <td>555200</td>\n",
              "      <td>71459</td>\n",
              "      <td>HANGING JAM JAR T-LIGHT HOLDER</td>\n",
              "      <td>24</td>\n",
              "      <td>2011-06-01 12:05:00</td>\n",
              "      <td>0.85</td>\n",
              "      <td>17315.0</td>\n",
              "      <td>United Kingdom</td>\n",
              "    </tr>\n",
              "    <tr>\n",
              "      <th>1</th>\n",
              "      <td>554974</td>\n",
              "      <td>21128</td>\n",
              "      <td>GOLD FISHING GNOME</td>\n",
              "      <td>4</td>\n",
              "      <td>2011-05-27 17:14:00</td>\n",
              "      <td>6.95</td>\n",
              "      <td>14031.0</td>\n",
              "      <td>United Kingdom</td>\n",
              "    </tr>\n",
              "    <tr>\n",
              "      <th>2</th>\n",
              "      <td>550972</td>\n",
              "      <td>21086</td>\n",
              "      <td>SET/6 RED SPOTTY PAPER CUPS</td>\n",
              "      <td>4</td>\n",
              "      <td>2011-04-21 17:05:00</td>\n",
              "      <td>0.65</td>\n",
              "      <td>14031.0</td>\n",
              "      <td>United Kingdom</td>\n",
              "    </tr>\n",
              "  </tbody>\n",
              "</table>\n",
              "</div>\n",
              "      <button class=\"colab-df-convert\" onclick=\"convertToInteractive('df-8d356809-c662-492b-bdd9-723523e5f983')\"\n",
              "              title=\"Convert this dataframe to an interactive table.\"\n",
              "              style=\"display:none;\">\n",
              "        \n",
              "  <svg xmlns=\"http://www.w3.org/2000/svg\" height=\"24px\"viewBox=\"0 0 24 24\"\n",
              "       width=\"24px\">\n",
              "    <path d=\"M0 0h24v24H0V0z\" fill=\"none\"/>\n",
              "    <path d=\"M18.56 5.44l.94 2.06.94-2.06 2.06-.94-2.06-.94-.94-2.06-.94 2.06-2.06.94zm-11 1L8.5 8.5l.94-2.06 2.06-.94-2.06-.94L8.5 2.5l-.94 2.06-2.06.94zm10 10l.94 2.06.94-2.06 2.06-.94-2.06-.94-.94-2.06-.94 2.06-2.06.94z\"/><path d=\"M17.41 7.96l-1.37-1.37c-.4-.4-.92-.59-1.43-.59-.52 0-1.04.2-1.43.59L10.3 9.45l-7.72 7.72c-.78.78-.78 2.05 0 2.83L4 21.41c.39.39.9.59 1.41.59.51 0 1.02-.2 1.41-.59l7.78-7.78 2.81-2.81c.8-.78.8-2.07 0-2.86zM5.41 20L4 18.59l7.72-7.72 1.47 1.35L5.41 20z\"/>\n",
              "  </svg>\n",
              "      </button>\n",
              "      \n",
              "  <style>\n",
              "    .colab-df-container {\n",
              "      display:flex;\n",
              "      flex-wrap:wrap;\n",
              "      gap: 12px;\n",
              "    }\n",
              "\n",
              "    .colab-df-convert {\n",
              "      background-color: #E8F0FE;\n",
              "      border: none;\n",
              "      border-radius: 50%;\n",
              "      cursor: pointer;\n",
              "      display: none;\n",
              "      fill: #1967D2;\n",
              "      height: 32px;\n",
              "      padding: 0 0 0 0;\n",
              "      width: 32px;\n",
              "    }\n",
              "\n",
              "    .colab-df-convert:hover {\n",
              "      background-color: #E2EBFA;\n",
              "      box-shadow: 0px 1px 2px rgba(60, 64, 67, 0.3), 0px 1px 3px 1px rgba(60, 64, 67, 0.15);\n",
              "      fill: #174EA6;\n",
              "    }\n",
              "\n",
              "    [theme=dark] .colab-df-convert {\n",
              "      background-color: #3B4455;\n",
              "      fill: #D2E3FC;\n",
              "    }\n",
              "\n",
              "    [theme=dark] .colab-df-convert:hover {\n",
              "      background-color: #434B5C;\n",
              "      box-shadow: 0px 1px 3px 1px rgba(0, 0, 0, 0.15);\n",
              "      filter: drop-shadow(0px 1px 2px rgba(0, 0, 0, 0.3));\n",
              "      fill: #FFFFFF;\n",
              "    }\n",
              "  </style>\n",
              "\n",
              "      <script>\n",
              "        const buttonEl =\n",
              "          document.querySelector('#df-8d356809-c662-492b-bdd9-723523e5f983 button.colab-df-convert');\n",
              "        buttonEl.style.display =\n",
              "          google.colab.kernel.accessAllowed ? 'block' : 'none';\n",
              "\n",
              "        async function convertToInteractive(key) {\n",
              "          const element = document.querySelector('#df-8d356809-c662-492b-bdd9-723523e5f983');\n",
              "          const dataTable =\n",
              "            await google.colab.kernel.invokeFunction('convertToInteractive',\n",
              "                                                     [key], {});\n",
              "          if (!dataTable) return;\n",
              "\n",
              "          const docLinkHtml = 'Like what you see? Visit the ' +\n",
              "            '<a target=\"_blank\" href=https://colab.research.google.com/notebooks/data_table.ipynb>data table notebook</a>'\n",
              "            + ' to learn more about interactive tables.';\n",
              "          element.innerHTML = '';\n",
              "          dataTable['output_type'] = 'display_data';\n",
              "          await google.colab.output.renderOutput(dataTable, element);\n",
              "          const docLink = document.createElement('div');\n",
              "          docLink.innerHTML = docLinkHtml;\n",
              "          element.appendChild(docLink);\n",
              "        }\n",
              "      </script>\n",
              "    </div>\n",
              "  </div>\n",
              "  "
            ]
          },
          "metadata": {},
          "execution_count": 32
        }
      ]
    },
    {
      "cell_type": "code",
      "metadata": {
        "id": "WU4cC3qWKyCi",
        "colab": {
          "base_uri": "https://localhost:8080/",
          "height": 199
        },
        "outputId": "70033244-27cd-4883-c92f-3d1d549ba1bd"
      },
      "source": [
        "test_preprocessed = pre_processing(test)\n",
        "df_test = feature_engineering(test_preprocessed)\n",
        "df_test.head(2)"
      ],
      "id": "WU4cC3qWKyCi",
      "execution_count": null,
      "outputs": [
        {
          "output_type": "stream",
          "name": "stderr",
          "text": [
            "/usr/local/lib/python3.7/dist-packages/pandas/util/_decorators.py:311: SettingWithCopyWarning: \n",
            "A value is trying to be set on a copy of a slice from a DataFrame\n",
            "\n",
            "See the caveats in the documentation: https://pandas.pydata.org/pandas-docs/stable/user_guide/indexing.html#returning-a-view-versus-a-copy\n",
            "  return func(*args, **kwargs)\n"
          ]
        },
        {
          "output_type": "execute_result",
          "data": {
            "text/plain": [
              "   CustomerID  Quantity  TotalSpend  DayOfWeek_sin  DayOfWeek_cos\n",
              "0     12347.0       106      218.20   1.224647e-16           -1.0\n",
              "1     12348.0       144       41.76   8.660254e-01            0.5"
            ],
            "text/html": [
              "\n",
              "  <div id=\"df-0efc15d5-aff9-4efc-a155-702ead5cd22f\">\n",
              "    <div class=\"colab-df-container\">\n",
              "      <div>\n",
              "<style scoped>\n",
              "    .dataframe tbody tr th:only-of-type {\n",
              "        vertical-align: middle;\n",
              "    }\n",
              "\n",
              "    .dataframe tbody tr th {\n",
              "        vertical-align: top;\n",
              "    }\n",
              "\n",
              "    .dataframe thead th {\n",
              "        text-align: right;\n",
              "    }\n",
              "</style>\n",
              "<table border=\"1\" class=\"dataframe\">\n",
              "  <thead>\n",
              "    <tr style=\"text-align: right;\">\n",
              "      <th></th>\n",
              "      <th>CustomerID</th>\n",
              "      <th>Quantity</th>\n",
              "      <th>TotalSpend</th>\n",
              "      <th>DayOfWeek_sin</th>\n",
              "      <th>DayOfWeek_cos</th>\n",
              "    </tr>\n",
              "  </thead>\n",
              "  <tbody>\n",
              "    <tr>\n",
              "      <th>0</th>\n",
              "      <td>12347.0</td>\n",
              "      <td>106</td>\n",
              "      <td>218.20</td>\n",
              "      <td>1.224647e-16</td>\n",
              "      <td>-1.0</td>\n",
              "    </tr>\n",
              "    <tr>\n",
              "      <th>1</th>\n",
              "      <td>12348.0</td>\n",
              "      <td>144</td>\n",
              "      <td>41.76</td>\n",
              "      <td>8.660254e-01</td>\n",
              "      <td>0.5</td>\n",
              "    </tr>\n",
              "  </tbody>\n",
              "</table>\n",
              "</div>\n",
              "      <button class=\"colab-df-convert\" onclick=\"convertToInteractive('df-0efc15d5-aff9-4efc-a155-702ead5cd22f')\"\n",
              "              title=\"Convert this dataframe to an interactive table.\"\n",
              "              style=\"display:none;\">\n",
              "        \n",
              "  <svg xmlns=\"http://www.w3.org/2000/svg\" height=\"24px\"viewBox=\"0 0 24 24\"\n",
              "       width=\"24px\">\n",
              "    <path d=\"M0 0h24v24H0V0z\" fill=\"none\"/>\n",
              "    <path d=\"M18.56 5.44l.94 2.06.94-2.06 2.06-.94-2.06-.94-.94-2.06-.94 2.06-2.06.94zm-11 1L8.5 8.5l.94-2.06 2.06-.94-2.06-.94L8.5 2.5l-.94 2.06-2.06.94zm10 10l.94 2.06.94-2.06 2.06-.94-2.06-.94-.94-2.06-.94 2.06-2.06.94z\"/><path d=\"M17.41 7.96l-1.37-1.37c-.4-.4-.92-.59-1.43-.59-.52 0-1.04.2-1.43.59L10.3 9.45l-7.72 7.72c-.78.78-.78 2.05 0 2.83L4 21.41c.39.39.9.59 1.41.59.51 0 1.02-.2 1.41-.59l7.78-7.78 2.81-2.81c.8-.78.8-2.07 0-2.86zM5.41 20L4 18.59l7.72-7.72 1.47 1.35L5.41 20z\"/>\n",
              "  </svg>\n",
              "      </button>\n",
              "      \n",
              "  <style>\n",
              "    .colab-df-container {\n",
              "      display:flex;\n",
              "      flex-wrap:wrap;\n",
              "      gap: 12px;\n",
              "    }\n",
              "\n",
              "    .colab-df-convert {\n",
              "      background-color: #E8F0FE;\n",
              "      border: none;\n",
              "      border-radius: 50%;\n",
              "      cursor: pointer;\n",
              "      display: none;\n",
              "      fill: #1967D2;\n",
              "      height: 32px;\n",
              "      padding: 0 0 0 0;\n",
              "      width: 32px;\n",
              "    }\n",
              "\n",
              "    .colab-df-convert:hover {\n",
              "      background-color: #E2EBFA;\n",
              "      box-shadow: 0px 1px 2px rgba(60, 64, 67, 0.3), 0px 1px 3px 1px rgba(60, 64, 67, 0.15);\n",
              "      fill: #174EA6;\n",
              "    }\n",
              "\n",
              "    [theme=dark] .colab-df-convert {\n",
              "      background-color: #3B4455;\n",
              "      fill: #D2E3FC;\n",
              "    }\n",
              "\n",
              "    [theme=dark] .colab-df-convert:hover {\n",
              "      background-color: #434B5C;\n",
              "      box-shadow: 0px 1px 3px 1px rgba(0, 0, 0, 0.15);\n",
              "      filter: drop-shadow(0px 1px 2px rgba(0, 0, 0, 0.3));\n",
              "      fill: #FFFFFF;\n",
              "    }\n",
              "  </style>\n",
              "\n",
              "      <script>\n",
              "        const buttonEl =\n",
              "          document.querySelector('#df-0efc15d5-aff9-4efc-a155-702ead5cd22f button.colab-df-convert');\n",
              "        buttonEl.style.display =\n",
              "          google.colab.kernel.accessAllowed ? 'block' : 'none';\n",
              "\n",
              "        async function convertToInteractive(key) {\n",
              "          const element = document.querySelector('#df-0efc15d5-aff9-4efc-a155-702ead5cd22f');\n",
              "          const dataTable =\n",
              "            await google.colab.kernel.invokeFunction('convertToInteractive',\n",
              "                                                     [key], {});\n",
              "          if (!dataTable) return;\n",
              "\n",
              "          const docLinkHtml = 'Like what you see? Visit the ' +\n",
              "            '<a target=\"_blank\" href=https://colab.research.google.com/notebooks/data_table.ipynb>data table notebook</a>'\n",
              "            + ' to learn more about interactive tables.';\n",
              "          element.innerHTML = '';\n",
              "          dataTable['output_type'] = 'display_data';\n",
              "          await google.colab.output.renderOutput(dataTable, element);\n",
              "          const docLink = document.createElement('div');\n",
              "          docLink.innerHTML = docLinkHtml;\n",
              "          element.appendChild(docLink);\n",
              "        }\n",
              "      </script>\n",
              "    </div>\n",
              "  </div>\n",
              "  "
            ]
          },
          "metadata": {},
          "execution_count": 33
        }
      ]
    },
    {
      "cell_type": "code",
      "metadata": {
        "id": "QGO4eCmAMA7P",
        "colab": {
          "base_uri": "https://localhost:8080/"
        },
        "outputId": "7dd2b31e-9b1d-4045-b2ce-7ce985ec6ca7"
      },
      "source": [
        "df_test.isna().sum()"
      ],
      "id": "QGO4eCmAMA7P",
      "execution_count": null,
      "outputs": [
        {
          "output_type": "execute_result",
          "data": {
            "text/plain": [
              "CustomerID       0\n",
              "Quantity         0\n",
              "TotalSpend       0\n",
              "DayOfWeek_sin    0\n",
              "DayOfWeek_cos    0\n",
              "dtype: int64"
            ]
          },
          "metadata": {},
          "execution_count": 34
        }
      ]
    },
    {
      "cell_type": "code",
      "metadata": {
        "id": "R_PzIW2QDizH",
        "colab": {
          "base_uri": "https://localhost:8080/"
        },
        "outputId": "63958fe7-f5c3-40f1-eb6a-0e68c7df7f29"
      },
      "source": [
        "test = df_test.iloc[:,1:]\n",
        "test_features = pd.DataFrame(sc.transform(test), columns=test.columns)\n",
        "rf.predict(test_features)"
      ],
      "id": "R_PzIW2QDizH",
      "execution_count": null,
      "outputs": [
        {
          "output_type": "execute_result",
          "data": {
            "text/plain": [
              "array([4, 1, 2, ..., 0, 4, 2], dtype=int32)"
            ]
          },
          "metadata": {},
          "execution_count": 35
        }
      ]
    },
    {
      "cell_type": "markdown",
      "metadata": {
        "id": "ZAXIXD9S7Jxx"
      },
      "source": [
        "### Report Analysis\n",
        "\n",
        "- Pay attention to pros and cons of removing the missing values vs replacing with the mean values\n",
        "- Based on the visualization of clusters, take a look at the difference in buying patterns of each cluster\n",
        "- Look for other methods to determine the optimal no. of clusters?"
      ],
      "id": "ZAXIXD9S7Jxx"
    }
  ]
}